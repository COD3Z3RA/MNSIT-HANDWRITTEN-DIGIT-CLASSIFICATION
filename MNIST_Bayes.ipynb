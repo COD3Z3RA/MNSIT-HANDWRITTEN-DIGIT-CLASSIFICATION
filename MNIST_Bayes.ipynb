{
  "nbformat": 4,
  "nbformat_minor": 0,
  "metadata": {
    "kernelspec": {
      "display_name": "Python 3",
      "language": "python",
      "name": "python3"
    },
    "language_info": {
      "codemirror_mode": {
        "name": "ipython",
        "version": 3
      },
      "file_extension": ".py",
      "mimetype": "text/x-python",
      "name": "python",
      "nbconvert_exporter": "python",
      "pygments_lexer": "ipython3",
      "version": "3.7.4"
    },
    "colab": {
      "name": "MNIST_Bayes.ipynb",
      "provenance": []
    }
  },
  "cells": [
    {
      "cell_type": "markdown",
      "metadata": {
        "id": "G729rQd2gAPi"
      },
      "source": [
        "# MNIST Handwritten Digit Classification using Bayes Classifier\r\n",
        "# Aadhar Dutta 2K18/IT/001\r\n",
        "# Dhruv Yadav 2K18/SE/056"
      ]
    },
    {
      "cell_type": "markdown",
      "metadata": {
        "id": "A1PONlDSlPqq"
      },
      "source": [
        "## Imports"
      ]
    },
    {
      "cell_type": "code",
      "metadata": {
        "id": "ojjZ26TDlPqs"
      },
      "source": [
        "# importing necessary libraries\n",
        "\n",
        "import os\n",
        "import seaborn as sns\n",
        "import cv2\n",
        "import gzip\n",
        "import numpy as np\n",
        "import matplotlib.pyplot as plt\n",
        "from scipy.stats import norm\n",
        "from sklearn.naive_bayes import GaussianNB\n",
        "from sklearn.metrics import confusion_matrix\n",
        "from sklearn.metrics import classification_report\n",
        "import math\n",
        "import sklearn\n",
        "from sklearn import datasets, metrics, model_selection\n",
        "from sklearn.metrics import classification_report"
      ],
      "execution_count": null,
      "outputs": []
    },
    {
      "cell_type": "markdown",
      "metadata": {
        "id": "QLTzW6RSlPqu"
      },
      "source": [
        "## Loading Data"
      ]
    },
    {
      "cell_type": "code",
      "metadata": {
        "id": "uMjtie8DlPqv"
      },
      "source": [
        "# functions of load images and labels from the dataset.\n",
        "\n",
        "def load_images(filename):\n",
        "    \n",
        "    with gzip.open(filename, 'r') as f:\n",
        "        \n",
        "        magic_number = int.from_bytes(f.read(4), 'big')\n",
        "        image_count = int.from_bytes(f.read(4), 'big')\n",
        "        row_count = int.from_bytes(f.read(4), 'big')\n",
        "        column_count = int.from_bytes(f.read(4), 'big')\n",
        "        image_data = f.read()\n",
        "        images = np.frombuffer(image_data, dtype=np.uint8)\\\n",
        "            .reshape((image_count, row_count, column_count))\n",
        "        \n",
        "        return images\n",
        "\n",
        "\n",
        "def load_labels(filename):\n",
        "    \n",
        "    with gzip.open(filename, 'r') as f:\n",
        "\n",
        "        magic_number = int.from_bytes(f.read(4), 'big')\n",
        "        label_count = int.from_bytes(f.read(4), 'big')\n",
        "        label_data = f.read()\n",
        "        labels = np.frombuffer(label_data, dtype=np.uint8)\n",
        "        \n",
        "        return labels"
      ],
      "execution_count": null,
      "outputs": []
    },
    {
      "cell_type": "code",
      "metadata": {
        "id": "SzdVKcn-lPqw"
      },
      "source": [
        "# filenames\n",
        "\n",
        "train_image_file = 'train-images-idx3-ubyte.gz'\n",
        "train_label_file = 'train-labels-idx1-ubyte.gz'\n",
        "test_image_file = 't10k-images-idx3-ubyte.gz'\n",
        "test_label_file = 't10k-labels-idx1-ubyte.gz'"
      ],
      "execution_count": null,
      "outputs": []
    },
    {
      "cell_type": "code",
      "metadata": {
        "id": "O1zjNl9AlPqx"
      },
      "source": [
        "# loading the datset\n",
        "\n",
        "train_images = load_images(train_image_file)\n",
        "train_labels = load_labels(train_label_file)\n",
        "test_images = load_images(test_image_file)\n",
        "test_labels = load_labels(test_label_file)"
      ],
      "execution_count": null,
      "outputs": []
    },
    {
      "cell_type": "markdown",
      "metadata": {
        "id": "qq8WpFVklPqy"
      },
      "source": [
        "## Data Visualization And Preprocessing"
      ]
    },
    {
      "cell_type": "code",
      "metadata": {
        "id": "pcJTDeVJlPqz",
        "outputId": "67d2b6c7-5113-4e4b-ab81-36f395be3407"
      },
      "source": [
        "# exploring the dataset\n",
        "\n",
        "print(\"train-images-size : \", train_images.shape)\n",
        "print(\"test-images-size : \", test_images.shape)\n",
        "print(\"train-labels-size : \", train_labels.shape)\n",
        "print(\"test-labels-size : \", test_labels.shape)\n",
        "print(\"Dimensions of a single image : \", train_images[0].shape)"
      ],
      "execution_count": null,
      "outputs": [
        {
          "output_type": "stream",
          "text": [
            "train-images-size :  (60000, 28, 28)\n",
            "test-images-size :  (10000, 28, 28)\n",
            "train-labels-size :  (60000,)\n",
            "test-labels-size :  (10000,)\n",
            "Dimensions of a single image :  (28, 28)\n"
          ],
          "name": "stdout"
        }
      ]
    },
    {
      "cell_type": "code",
      "metadata": {
        "id": "UdIvaidclPq1",
        "outputId": "49940be7-7a40-425e-fff4-fb208cb997f4"
      },
      "source": [
        "# displaying some images and their labels from the training dataset.\n",
        "\n",
        "image = np.asarray(train_images[1]).squeeze()\n",
        "plt.subplot(221)\n",
        "plt.imshow(image)\n",
        "\n",
        "image = np.asarray(train_images[10]).squeeze()\n",
        "plt.subplot(222)\n",
        "plt.imshow(image)\n",
        "\n",
        "image = np.asarray(train_images[100]).squeeze()\n",
        "plt.subplot(223)\n",
        "plt.imshow(image)\n",
        "\n",
        "image = np.asarray(train_images[1001]).squeeze()\n",
        "plt.subplot(224)\n",
        "plt.imshow(image)\n",
        "\n",
        "train_labels[1], train_labels[10], train_labels[100], train_labels[1001]"
      ],
      "execution_count": null,
      "outputs": [
        {
          "output_type": "execute_result",
          "data": {
            "text/plain": [
              "(0, 3, 5, 7)"
            ]
          },
          "metadata": {
            "tags": []
          },
          "execution_count": 6
        },
        {
          "output_type": "display_data",
          "data": {
            "image/png": "[encoded data removed]",
            "text/plain": [
              "<Figure size 432x288 with 4 Axes>"
            ]
          },
          "metadata": {
            "tags": [],
            "needs_background": "light"
          }
        }
      ]
    },
    {
      "cell_type": "code",
      "metadata": {
        "id": "OY4e9_8PlPq2"
      },
      "source": [
        "# selecting digits in required_labels and then preparing data of those digits\n",
        "\n",
        "def generate_data(images, labels, required_labels):\n",
        "    \n",
        "    X_images = []\n",
        "    X_labels = []\n",
        "    \n",
        "    for current_label in required_labels:\n",
        "        \n",
        "        indices = np.where(labels == current_label)\n",
        "        \n",
        "        for idx in indices[0]:\n",
        "            X_images.append(images[idx])\n",
        "            X_labels.append(labels[idx])\n",
        "    \n",
        "    X_images = np.array(X_images)\n",
        "    X_labels = np.array(X_labels)\n",
        "    \n",
        "    shuffler = np.random.permutation(len(X_labels))\n",
        "    images_shuffled = X_images[shuffler]\n",
        "    labels_shuffled = X_labels[shuffler]\n",
        "    images_shuffled = images_shuffled.reshape(images_shuffled.shape[0],28*28)\n",
        "    \n",
        "    return images_shuffled, labels_shuffled"
      ],
      "execution_count": null,
      "outputs": []
    },
    {
      "cell_type": "code",
      "metadata": {
        "id": "BKp900lTlPq2"
      },
      "source": [
        "# helper function\n",
        "# counts the no of zeros in a feature row\n",
        "\n",
        "def count_zero(row):\n",
        "    \n",
        "    freq = 0\n",
        "    \n",
        "    for i in row:\n",
        "        if i == 0:\n",
        "            freq += 1\n",
        "    return freq"
      ],
      "execution_count": null,
      "outputs": []
    },
    {
      "cell_type": "code",
      "metadata": {
        "id": "VLVmxjTslPq3"
      },
      "source": [
        "# eliminating columns of features which have more than 99%  '0' in them. These features are useless and removing them \n",
        "# increased the accuracy by a large margain. \n",
        "# These features are mostly present in the leftmost and rightmost part of the image.\n",
        "\n",
        "def eliminate_features(X_train, X_test,threshold):\n",
        "    \n",
        "    n = X_train.shape[0]\n",
        "    m = X_test.shape[0]\n",
        "\n",
        "    combined_images = []\n",
        "\n",
        "    for i in range(n):\n",
        "        combined_images.append(X_train[i])\n",
        "\n",
        "    for i in range(m):\n",
        "        combined_images.append(X_test[i])\n",
        "\n",
        "    combined_images = np.array(combined_images)\n",
        "    \n",
        "    images = []\n",
        "    \n",
        "    for i in range(combined_images.shape[1]):\n",
        "        row = combined_images[:, i]\n",
        "        freq = count_zero(row)\n",
        "        if (freq / combined_images.shape[0])*100 < threshold:\n",
        "            images.append(row)\n",
        "            \n",
        "    images = np.array(images)\n",
        "    images = images.T\n",
        "\n",
        "    X_train = images[:n]\n",
        "    X_test = images[n:n + m]\n",
        "    \n",
        "    return X_train, X_test"
      ],
      "execution_count": null,
      "outputs": []
    },
    {
      "cell_type": "code",
      "metadata": {
        "id": "hSt8rhGUlPq3"
      },
      "source": [
        "# used to split dataset into train, test set by using generate_data function and eliminate_features function\n",
        "\n",
        "def generate_test_train_data(train_images, train_labels, test_images, test_labels, required_labels):\n",
        "    \n",
        "    X_train, Y_train = generate_data(train_images, train_labels, required_labels)\n",
        "\n",
        "    X_test, Y_test = generate_data(test_images, test_labels, required_labels)\n",
        "    \n",
        "    print(\"X_train shape before feature elimination : \", X_train.shape)\n",
        "    print(\"X_test shape before feature elimination : \", X_test.shape)\n",
        "    \n",
        "    X_train, X_test = eliminate_features(X_train,X_test,99)\n",
        "    \n",
        "    print()\n",
        "    print()\n",
        "    \n",
        "    print(\"X_train shape after feature elimination : \", X_train.shape)\n",
        "    print(\"X_test shape after feature elimination : \", X_test.shape)\n",
        "    print()\n",
        "    print()\n",
        "    print(\"Y_train shape : \", Y_train.shape)\n",
        "    print(\"Y_test shape : \", Y_test.shape)\n",
        "    \n",
        "    \n",
        "    return X_train, Y_train, X_test, Y_test"
      ],
      "execution_count": null,
      "outputs": []
    },
    {
      "cell_type": "markdown",
      "metadata": {
        "id": "EMVlJzPclPq4"
      },
      "source": [
        "## Splitting Data Into Test, Train Set"
      ]
    },
    {
      "cell_type": "code",
      "metadata": {
        "id": "qC39Nj-KlPq4"
      },
      "source": [
        "required_labels = [0,1]"
      ],
      "execution_count": null,
      "outputs": []
    },
    {
      "cell_type": "code",
      "metadata": {
        "scrolled": true,
        "id": "PowLpotGlPq5",
        "outputId": "f2f3516b-affd-4986-c091-ff2cdb3f7835"
      },
      "source": [
        "X_train, Y_train, X_test, Y_test = generate_test_train_data(train_images, train_labels, test_images, test_labels, required_labels)"
      ],
      "execution_count": null,
      "outputs": [
        {
          "output_type": "stream",
          "text": [
            "X_train shape before feature elimination :  (12665, 784)\n",
            "X_test shape before feature elimination :  (2115, 784)\n",
            "\n",
            "\n",
            "X_train shape after feature elimination :  (12665, 411)\n",
            "X_test shape after feature elimination :  (2115, 411)\n",
            "\n",
            "\n",
            "Y_train shape :  (12665,)\n",
            "Y_test shape :  (2115,)\n"
          ],
          "name": "stdout"
        }
      ]
    },
    {
      "cell_type": "code",
      "metadata": {
        "id": "ntOiu2TVlPq5",
        "outputId": "3090431c-1017-451f-e4d4-413dcce40fba"
      },
      "source": [
        "classes,counts = np.unique(Y_test,return_counts=True)\n",
        "print(\"In the testing Dataset\")\n",
        "print(\"Number of data points with class \", classes[0], \" : \",counts[0])\n",
        "print(\"Number of data points with class \", classes[1], \" : \",counts[1])\n",
        "\n",
        "print()\n",
        "print()\n",
        "classes,counts = np.unique(Y_train,return_counts=True)\n",
        "print(\"In the training Dataset\")\n",
        "print(\"Number of data points with class \", classes[0], \" : \",counts[0])\n",
        "print(\"Number of data points with class \", classes[1], \" : \",counts[1])"
      ],
      "execution_count": null,
      "outputs": [
        {
          "output_type": "stream",
          "text": [
            "In the testing Dataset\n",
            "Number of data points with class  0  :  980\n",
            "Number of data points with class  1  :  1135\n",
            "\n",
            "\n",
            "In the training Dataset\n",
            "Number of data points with class  0  :  5923\n",
            "Number of data points with class  1  :  6742\n"
          ],
          "name": "stdout"
        }
      ]
    },
    {
      "cell_type": "markdown",
      "metadata": {
        "id": "BeQD9COLlPq6"
      },
      "source": [
        "## Gaussian Naive Bayes Classifier (A)"
      ]
    },
    {
      "cell_type": "code",
      "metadata": {
        "id": "F2mI-0KClPq7",
        "outputId": "454cf321-b60c-40ae-86c0-4cdeb9419205"
      },
      "source": [
        "# fitting the model.\n",
        "\n",
        "clf = GaussianNB()\n",
        "clf.fit(X_train, Y_train)"
      ],
      "execution_count": null,
      "outputs": [
        {
          "output_type": "execute_result",
          "data": {
            "text/plain": [
              "GaussianNB()"
            ]
          },
          "metadata": {
            "tags": []
          },
          "execution_count": 14
        }
      ]
    },
    {
      "cell_type": "code",
      "metadata": {
        "id": "7iU49BFalPq7"
      },
      "source": [
        "# predictions \n",
        "\n",
        "y_pred = clf.predict(X_test)"
      ],
      "execution_count": null,
      "outputs": []
    },
    {
      "cell_type": "markdown",
      "metadata": {
        "id": "dqlHZotTlPq8"
      },
      "source": [
        "## Evaluation Metrics"
      ]
    },
    {
      "cell_type": "markdown",
      "metadata": {
        "id": "7rMDmlISlPq8"
      },
      "source": [
        "#### Confusion Matrix"
      ]
    },
    {
      "cell_type": "code",
      "metadata": {
        "id": "vd0pOWzXlPq8",
        "outputId": "f5c75913-b2cf-40c0-b2b1-102b45eb78a5"
      },
      "source": [
        "matrix = (confusion_matrix(Y_test,y_pred))\n",
        "for i in range(matrix.shape[0]):\n",
        "    for j in range(matrix.shape[1]):\n",
        "        print(matrix[i][j],end = \"     \")\n",
        "    print()"
      ],
      "execution_count": null,
      "outputs": [
        {
          "output_type": "stream",
          "text": [
            "979     1     \n",
            "21     1114     \n"
          ],
          "name": "stdout"
        }
      ]
    },
    {
      "cell_type": "code",
      "metadata": {
        "id": "VrtvUsSjlPq9",
        "outputId": "efa502ec-8870-467a-ab4e-369ad5034ce0"
      },
      "source": [
        "#Print Confusion Matrix\n",
        "\n",
        "print(\"CONFUSION MATRIX\")\n",
        "plt.figure(figsize=(18,4))\n",
        "uniform_data = np.random.rand(10, 12)\n",
        "ax = sns.heatmap(matrix, annot=True, cmap=\"YlGnBu\")\n",
        "bottom,top=ax.get_ylim()\n",
        "ax.set_ylim(bottom+0.5,top-0.5)\n",
        "plt.xlabel('True class value')\n",
        "plt.ylabel('Predicted class value')"
      ],
      "execution_count": null,
      "outputs": [
        {
          "output_type": "stream",
          "text": [
            "CONFUSION MATRIX\n"
          ],
          "name": "stdout"
        },
        {
          "output_type": "execute_result",
          "data": {
            "text/plain": [
              "Text(141.0, 0.5, 'Predicted class value')"
            ]
          },
          "metadata": {
            "tags": []
          },
          "execution_count": 17
        },
        {
          "output_type": "display_data",
          "data": {
            "image/png": "[encoded data removed]",
            "text/plain": [
              "<Figure size 1296x288 with 2 Axes>"
            ]
          },
          "metadata": {
            "tags": [],
            "needs_background": "light"
          }
        }
      ]
    },
    {
      "cell_type": "markdown",
      "metadata": {
        "id": "ARFGbOyvlPq9"
      },
      "source": [
        "#### Classification Accuracy (B)"
      ]
    },
    {
      "cell_type": "code",
      "metadata": {
        "id": "1tBzEtFElPq-"
      },
      "source": [
        "# calculates classification accuracy\n",
        "\n",
        "def score(matrix):\n",
        "    \n",
        "    TP = matrix[0][0]\n",
        "    FP = matrix[0][1]\n",
        "    FN = matrix[1][0]\n",
        "    TN = matrix[1][1]\n",
        "    \n",
        "    accuracy = (TP + TN) / (TP + TN + FP + FN)\n",
        "    return accuracy*100"
      ],
      "execution_count": null,
      "outputs": []
    },
    {
      "cell_type": "code",
      "metadata": {
        "id": "0Fgh0IKnlPq-",
        "outputId": "e1d27aaa-c727-4422-e113-8628cd28f616"
      },
      "source": [
        "print(\"Accuracy of the model is : \", score(matrix), \" %\")"
      ],
      "execution_count": null,
      "outputs": [
        {
          "output_type": "stream",
          "text": [
            "Accuracy of the model is :  98.95981087470449  %\n"
          ],
          "name": "stdout"
        }
      ]
    },
    {
      "cell_type": "markdown",
      "metadata": {
        "id": "-VBvHjG3lPq-"
      },
      "source": [
        "#### Classification Report"
      ]
    },
    {
      "cell_type": "code",
      "metadata": {
        "id": "amuzo1P2lPq_",
        "outputId": "f288d0c7-6bcf-4149-b68a-ba53311d46b1"
      },
      "source": [
        "report = classification_report(Y_test, y_pred, target_names=[\"Digit 0\",\"Digit 1\"])\n",
        "print(report)"
      ],
      "execution_count": null,
      "outputs": [
        {
          "output_type": "stream",
          "text": [
            "              precision    recall  f1-score   support\n",
            "\n",
            "     Digit 0       0.98      1.00      0.99       980\n",
            "     Digit 1       1.00      0.98      0.99      1135\n",
            "\n",
            "    accuracy                           0.99      2115\n",
            "   macro avg       0.99      0.99      0.99      2115\n",
            "weighted avg       0.99      0.99      0.99      2115\n",
            "\n"
          ],
          "name": "stdout"
        }
      ]
    },
    {
      "cell_type": "markdown",
      "metadata": {
        "id": "ybvhcUkGlPq_"
      },
      "source": [
        "#### ROC Curve Between FAR Vs GAR"
      ]
    },
    {
      "cell_type": "code",
      "metadata": {
        "id": "fLmcly3HlPq_",
        "outputId": "4710de11-b020-4170-ec44-4e2d99b4adfb"
      },
      "source": [
        "metrics.plot_roc_curve(clf, X_test, Y_test)\n",
        "plt.show()"
      ],
      "execution_count": null,
      "outputs": [
        {
          "output_type": "display_data",
          "data": {
            "image/png": "[encoded data removed]",
            "text/plain": [
              "<Figure size 432x288 with 1 Axes>"
            ]
          },
          "metadata": {
            "tags": [],
            "needs_background": "light"
          }
        }
      ]
    },
    {
      "cell_type": "markdown",
      "metadata": {
        "scrolled": false,
        "id": "Uu1LBBA9lPrA"
      },
      "source": [
        "# Classification For Digit 3 And Digit 8\n",
        "\n",
        "\n",
        "\n",
        "\n",
        "\n",
        "## Splitting Data into Test, Train Set"
      ]
    },
    {
      "cell_type": "code",
      "metadata": {
        "id": "YowwGLvIlPrA"
      },
      "source": [
        "required_labels = [3,8]"
      ],
      "execution_count": null,
      "outputs": []
    },
    {
      "cell_type": "code",
      "metadata": {
        "id": "JZJHKUo7lPrA",
        "outputId": "462c6472-f522-4fff-d1db-56844a446846"
      },
      "source": [
        "X_train, Y_train, X_test, Y_test = generate_test_train_data(train_images, train_labels, test_images, test_labels, required_labels)"
      ],
      "execution_count": null,
      "outputs": [
        {
          "output_type": "stream",
          "text": [
            "X_train shape before feature elimination :  (11982, 784)\n",
            "X_test shape before feature elimination :  (1984, 784)\n",
            "\n",
            "\n",
            "X_train shape after feature elimination :  (11982, 457)\n",
            "X_test shape after feature elimination :  (1984, 457)\n",
            "\n",
            "\n",
            "Y_train shape :  (11982,)\n",
            "Y_test shape :  (1984,)\n"
          ],
          "name": "stdout"
        }
      ]
    },
    {
      "cell_type": "code",
      "metadata": {
        "id": "HyDjFaDalPrB",
        "outputId": "f16c1793-eceb-49b6-82f5-7255ae49f16f"
      },
      "source": [
        "classes,counts = np.unique(Y_test,return_counts=True)\n",
        "print(\"In the testing Dataset\")\n",
        "print(\"Number of data points with class \", classes[0], \" : \",counts[0])\n",
        "print(\"Number of data points with class \", classes[1], \" : \",counts[1])\n",
        "\n",
        "print()\n",
        "print()\n",
        "classes,counts = np.unique(Y_train,return_counts=True)\n",
        "print(\"In the training Dataset\")\n",
        "print(\"Number of data points with class \", classes[0], \" : \",counts[0])\n",
        "print(\"Number of data points with class \", classes[1], \" : \",counts[1])"
      ],
      "execution_count": null,
      "outputs": [
        {
          "output_type": "stream",
          "text": [
            "In the testing Dataset\n",
            "Number of data points with class  3  :  1010\n",
            "Number of data points with class  8  :  974\n",
            "\n",
            "\n",
            "In the training Dataset\n",
            "Number of data points with class  3  :  6131\n",
            "Number of data points with class  8  :  5851\n"
          ],
          "name": "stdout"
        }
      ]
    },
    {
      "cell_type": "markdown",
      "metadata": {
        "id": "42ukxAULlPrB"
      },
      "source": [
        "## Gaussian Naive Bayes Classifier (D)"
      ]
    },
    {
      "cell_type": "code",
      "metadata": {
        "id": "1DyCR9ZxlPrC",
        "outputId": "a0545069-c645-4e2f-c12b-f67a07b69bb5"
      },
      "source": [
        "# fitting the model.\n",
        "\n",
        "clfs = GaussianNB()\n",
        "clfs.fit(X_train, Y_train)"
      ],
      "execution_count": null,
      "outputs": [
        {
          "output_type": "execute_result",
          "data": {
            "text/plain": [
              "GaussianNB()"
            ]
          },
          "metadata": {
            "tags": []
          },
          "execution_count": 25
        }
      ]
    },
    {
      "cell_type": "code",
      "metadata": {
        "id": "c43M9eGLlPrC",
        "outputId": "fd1d987a-d6bb-440d-deea-94d5075024ed"
      },
      "source": [
        "# predictions \n",
        "\n",
        "y_pred = clfs.predict(X_test)\n",
        "y_pred"
      ],
      "execution_count": null,
      "outputs": [
        {
          "output_type": "execute_result",
          "data": {
            "text/plain": [
              "array([3, 8, 3, ..., 8, 8, 3], dtype=uint8)"
            ]
          },
          "metadata": {
            "tags": []
          },
          "execution_count": 26
        }
      ]
    },
    {
      "cell_type": "markdown",
      "metadata": {
        "id": "FuXPTOcHlPrD"
      },
      "source": [
        "## Evaluation Metrics"
      ]
    },
    {
      "cell_type": "markdown",
      "metadata": {
        "id": "LMdztvc-lPrE"
      },
      "source": [
        "#### Confusion Matrix"
      ]
    },
    {
      "cell_type": "code",
      "metadata": {
        "id": "Z82nuLpQlPrE",
        "outputId": "86eb91da-7571-4895-8917-2710c75670ba"
      },
      "source": [
        "matrix = (confusion_matrix(Y_test,y_pred))\n",
        "for i in range(matrix.shape[0]):\n",
        "    for j in range(matrix.shape[1]):\n",
        "        print(matrix[i][j],end = \"     \")\n",
        "    print()"
      ],
      "execution_count": null,
      "outputs": [
        {
          "output_type": "stream",
          "text": [
            "892     118     \n",
            "54     920     \n"
          ],
          "name": "stdout"
        }
      ]
    },
    {
      "cell_type": "code",
      "metadata": {
        "id": "k4zgvRkTlPrF",
        "outputId": "147a9752-1c46-414a-d7e4-066987a5e9e7"
      },
      "source": [
        "#Print Confusion Matrix\n",
        "\n",
        "print(\"CONFUSION MATRIX\")\n",
        "plt.figure(figsize=(18,4))\n",
        "uniform_data = np.random.rand(10, 12)\n",
        "ax = sns.heatmap(matrix, annot=True, cmap=\"YlGnBu\")\n",
        "bottom,top=ax.get_ylim()\n",
        "ax.set_ylim(bottom+0.5,top-0.5)\n",
        "plt.xlabel('True class value')\n",
        "plt.ylabel('Predicted class value')"
      ],
      "execution_count": null,
      "outputs": [
        {
          "output_type": "stream",
          "text": [
            "CONFUSION MATRIX\n"
          ],
          "name": "stdout"
        },
        {
          "output_type": "execute_result",
          "data": {
            "text/plain": [
              "Text(141.0, 0.5, 'Predicted class value')"
            ]
          },
          "metadata": {
            "tags": []
          },
          "execution_count": 28
        },
        {
          "output_type": "display_data",
          "data": {
            "image/png": "[encoded data removed]",
            "text/plain": [
              "<Figure size 1296x288 with 2 Axes>"
            ]
          },
          "metadata": {
            "tags": [],
            "needs_background": "light"
          }
        }
      ]
    },
    {
      "cell_type": "markdown",
      "metadata": {
        "id": "E6u3NPqllPrG"
      },
      "source": [
        "#### Classification Accuracy (D)"
      ]
    },
    {
      "cell_type": "code",
      "metadata": {
        "id": "wNqitelTlPrH",
        "outputId": "33d10877-9a3b-4152-c206-99502aa5d9d1"
      },
      "source": [
        "print(\"Accuracy of the model is : \", score(matrix), \" %\")"
      ],
      "execution_count": null,
      "outputs": [
        {
          "output_type": "stream",
          "text": [
            "Accuracy of the model is :  91.33064516129032  %\n"
          ],
          "name": "stdout"
        }
      ]
    },
    {
      "cell_type": "markdown",
      "metadata": {
        "id": "BGKxBtG1lPrH"
      },
      "source": [
        "#### Classification Report"
      ]
    },
    {
      "cell_type": "code",
      "metadata": {
        "id": "Otnx-YRXlPrI",
        "outputId": "eda89539-6501-46f1-99af-d53a7b55ea60"
      },
      "source": [
        "report = classification_report(Y_test, y_pred, target_names=[\"Digit 3\",\"Digit 8\"])\n",
        "print(report)"
      ],
      "execution_count": null,
      "outputs": [
        {
          "output_type": "stream",
          "text": [
            "              precision    recall  f1-score   support\n",
            "\n",
            "     Digit 3       0.94      0.88      0.91      1010\n",
            "     Digit 8       0.89      0.94      0.91       974\n",
            "\n",
            "    accuracy                           0.91      1984\n",
            "   macro avg       0.91      0.91      0.91      1984\n",
            "weighted avg       0.92      0.91      0.91      1984\n",
            "\n"
          ],
          "name": "stdout"
        }
      ]
    },
    {
      "cell_type": "markdown",
      "metadata": {
        "id": "CQ-UPjw1lPrI"
      },
      "source": [
        "#### ROC Curve Between FAR Vs GAR (D)"
      ]
    },
    {
      "cell_type": "code",
      "metadata": {
        "scrolled": true,
        "id": "GsK_y7AMlPrI",
        "outputId": "07c98907-81ac-4b29-9492-e42b763c29ef"
      },
      "source": [
        "metrics.plot_roc_curve(clfs, X_test, Y_test)\n",
        "plt.show()"
      ],
      "execution_count": null,
      "outputs": [
        {
          "output_type": "display_data",
          "data": {
            "image/png": "[encoded data removed]",
            "text/plain": [
              "<Figure size 432x288 with 1 Axes>"
            ]
          },
          "metadata": {
            "tags": [],
            "needs_background": "light"
          }
        }
      ]
    },
    {
      "cell_type": "markdown",
      "metadata": {
        "id": "l0BrEaLVlPrJ"
      },
      "source": [
        "###### END OF ASSIGNMENT"
      ]
    }
  ]
}